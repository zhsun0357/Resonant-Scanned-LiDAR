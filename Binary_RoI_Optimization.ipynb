{
 "cells": [
  {
   "cell_type": "code",
   "execution_count": 1,
   "metadata": {
    "ExecuteTime": {
     "end_time": "2021-08-06T05:43:54.839798Z",
     "start_time": "2021-08-06T05:43:54.121640Z"
    }
   },
   "outputs": [],
   "source": [
    "from pyflann import *\n",
    "import numpy as np\n",
    "import os\n",
    "import imageio\n",
    "import time\n",
    "\n",
    "import sys\n",
    "import torch\n",
    "import pdb\n",
    "from operator import itemgetter\n",
    "sys.path.append('./')\n",
    "import matplotlib.pyplot as plt\n",
    "\n",
    "%load_ext autoreload\n",
    "%autoreload 2\n",
    "\n",
    "import tqdm\n",
    "from pattern_generator import Pattern_Generator_grid\n",
    "\n",
    "%matplotlib inline"
   ]
  },
  {
   "cell_type": "code",
   "execution_count": 2,
   "metadata": {
    "ExecuteTime": {
     "end_time": "2021-08-06T05:43:54.965517Z",
     "start_time": "2021-08-06T05:43:54.842730Z"
    }
   },
   "outputs": [
    {
     "data": {
      "text/plain": [
       "(-0.5, 50.5, 50.5, -0.5)"
      ]
     },
     "execution_count": 2,
     "metadata": {},
     "output_type": "execute_result"
    },
    {
     "data": {
      "image/png": "[encoded data removed]",
      "text/plain": [
       "<Figure size 432x288 with 1 Axes>"
      ]
     },
     "metadata": {
      "needs_background": "light"
     },
     "output_type": "display_data"
    }
   ],
   "source": [
    "M = 50\n",
    "weight = np.zeros((M+1,M+1))\n",
    "weight[M//4:M//2, :M//2] = 10.0\n",
    "weight[:M//4, M//4:M//2] = 10.0\n",
    "plt.imshow(weight)\n",
    "plt.title('RoI map', fontsize = 25.0)\n",
    "plt.axis('off')"
   ]
  },
  {
   "cell_type": "code",
   "execution_count": 3,
   "metadata": {
    "ExecuteTime": {
     "end_time": "2021-08-06T05:43:55.002998Z",
     "start_time": "2021-08-06T05:43:54.967868Z"
    }
   },
   "outputs": [],
   "source": [
    "frequencies = 5\n",
    "samples = 200\n",
    "\n",
    "class coverage_loss_weight:\n",
    "    def __init__(self):\n",
    "        self.flann = FLANN()\n",
    "        \n",
    "    def set_weight(self, weight):\n",
    "        self.weight = torch.from_numpy(weight[weight > 0]).float()\n",
    "        self.x0, self.y0 = np.meshgrid((np.arange(M+1) - M/2)/(M/2), \\\n",
    "                             (np.arange(M+1) - M/2)/(M/2))\n",
    "        self.x0 = self.x0[weight > 0]\n",
    "        self.y0 = self.y0[weight > 0]\n",
    "\n",
    "        self.pix_grid = np.c_[self.x0.ravel(), self.y0.ravel()].astype(np.float32)\n",
    "        self.x0 = torch.from_numpy(self.x0).float()\n",
    "        self.y0 = torch.from_numpy(self.y0).float()\n",
    "    \n",
    "    def loss_weight(self, grid_x, grid_y):\n",
    "        loss = 0\n",
    "        grids = np.concatenate((grid_x[0].unsqueeze(-1).detach().numpy(), \\\n",
    "                                grid_y[0].unsqueeze(-1).detach().numpy()), axis = 1)\n",
    "        closest_idx, closest_dis = self.flann.nn(\\\n",
    "            grids, self.pix_grid, 1, algorithm=\"kmeans\", branching=32, iterations=7, checks=16)\n",
    "        loss_mask = torch.from_numpy(1 - (np.sqrt(closest_dis) <= 1/M)).float()\n",
    "        weight = self.weight*loss_mask\n",
    "        loss += torch.sum(weight*(torch.abs(self.x0 - grid_x[0, closest_idx]) + \\\n",
    "                                  torch.abs(self.y0 - grid_y[0, closest_idx])))\n",
    "        return loss/frequencies"
   ]
  },
  {
   "cell_type": "code",
   "execution_count": 4,
   "metadata": {
    "ExecuteTime": {
     "end_time": "2021-08-06T05:43:55.549965Z",
     "start_time": "2021-08-06T05:43:55.005010Z"
    }
   },
   "outputs": [
    {
     "data": {
      "text/plain": [
       "Text(0, 0.5, 'normalized loss')"
      ]
     },
     "execution_count": 4,
     "metadata": {},
     "output_type": "execute_result"
    },
    {
     "data": {
      "image/png": "[encoded data removed]",
      "text/plain": [
       "<Figure size 576x360 with 1 Axes>"
      ]
     },
     "metadata": {
      "needs_background": "light"
     },
     "output_type": "display_data"
    }
   ],
   "source": [
    "pg = Pattern_Generator_grid(samples, frequencies)\n",
    "pg.train()\n",
    "optimizer = torch.optim.SGD(itemgetter(*pg.train_params)(pg.__dict__), lr=1e-3)\n",
    "coverage_loss = coverage_loss_weight()\n",
    "coverage_loss.set_weight(weight)\n",
    "\n",
    "Niter = 100\n",
    "loss_curve = []\n",
    "for ii in np.arange(Niter):\n",
    "    grid_x, grid_y = pg()\n",
    "    loss = coverage_loss.loss_weight(grid_x, grid_y)\n",
    "    loss_curve.append(loss.item())\n",
    "    optimizer.zero_grad()\n",
    "    loss.backward()\n",
    "    optimizer.step()\n",
    "\n",
    "loss_curve = loss_curve/np.max(loss_curve)\n",
    "fig, ax = plt.subplots(1,1,figsize = (8,5))\n",
    "plt.plot(loss_curve)\n",
    "plt.title('loss curve', fontsize = 25.0)\n",
    "ax.tick_params(axis='x', labelsize = 20.0)\n",
    "ax.tick_params(axis='y', labelsize = 20.0)\n",
    "plt.xlabel('iterations', fontsize = 20.0)\n",
    "plt.ylabel('normalized loss', fontsize = 20.0)"
   ]
  },
  {
   "cell_type": "code",
   "execution_count": 5,
   "metadata": {
    "ExecuteTime": {
     "end_time": "2021-08-06T05:43:55.587897Z",
     "start_time": "2021-08-06T05:43:55.554369Z"
    }
   },
   "outputs": [],
   "source": [
    "vis_samples = 500\n",
    "with torch.no_grad():\n",
    "    pg1 = Pattern_Generator_grid(vis_samples, frequencies)\n",
    "    pg1.alpha = pg.alpha.clone()\n",
    "    pg1.beta = pg.beta.clone()\n",
    "    pg1.gamma = pg.gamma.clone()\n",
    "    pg1.delta = pg.delta.clone()\n",
    "\n",
    "    grid_x1, grid_y1 = pg1()"
   ]
  },
  {
   "cell_type": "code",
   "execution_count": 6,
   "metadata": {
    "ExecuteTime": {
     "end_time": "2021-08-06T05:43:55.729192Z",
     "start_time": "2021-08-06T05:43:55.592435Z"
    }
   },
   "outputs": [
    {
     "data": {
      "text/plain": [
       "Text(0.5, 1.0, 'Optimized Pattern')"
      ]
     },
     "execution_count": 6,
     "metadata": {},
     "output_type": "execute_result"
    },
    {
     "data": {
      "image/png": "[encoded data removed]",
      "text/plain": [
       "<Figure size 360x360 with 1 Axes>"
      ]
     },
     "metadata": {
      "needs_background": "light"
     },
     "output_type": "display_data"
    }
   ],
   "source": [
    "fig, ax = plt.subplots(1,1,figsize = (5,5))\n",
    "plt.scatter(grid_x1[0].detach().numpy(), grid_y1[0].detach().numpy())\n",
    "plt.xlim([-1.0,1.0])\n",
    "plt.ylim([-1.0,1.0])\n",
    "plt.axis('off')\n",
    "plt.title('Optimized Pattern', fontsize = 25.0)"
   ]
  },
  {
   "cell_type": "code",
   "execution_count": null,
   "metadata": {},
   "outputs": [],
   "source": []
  }
 ],
 "metadata": {
  "kernelspec": {
   "display_name": "Python 3",
   "language": "python",
   "name": "python3"
  },
  "language_info": {
   "codemirror_mode": {
    "name": "ipython",
    "version": 3
   },
   "file_extension": ".py",
   "mimetype": "text/x-python",
   "name": "python",
   "nbconvert_exporter": "python",
   "pygments_lexer": "ipython3",
   "version": "3.6.8"
  },
  "varInspector": {
   "cols": {
    "lenName": 16,
    "lenType": 16,
    "lenVar": 40
   },
   "kernels_config": {
    "python": {
     "delete_cmd_postfix": "",
     "delete_cmd_prefix": "del ",
     "library": "var_list.py",
     "varRefreshCmd": "print(var_dic_list())"
    },
    "r": {
     "delete_cmd_postfix": ") ",
     "delete_cmd_prefix": "rm(",
     "library": "var_list.r",
     "varRefreshCmd": "cat(var_dic_list()) "
    }
   },
   "types_to_exclude": [
    "module",
    "function",
    "builtin_function_or_method",
    "instance",
    "_Feature"
   ],
   "window_display": false
  }
 },
 "nbformat": 4,
 "nbformat_minor": 4
}
